{
 "cells": [
  {
   "cell_type": "code",
   "execution_count": 152,
   "metadata": {},
   "outputs": [],
   "source": [
    "import pandas as pd \n",
    "import numpy as np \n",
    "import seaborn as sns\n",
    "import matplotlib.pyplot as plt \n",
    "from sklearn.utils import shuffle\n",
    "%matplotlib inline"
   ]
  },
  {
   "cell_type": "code",
   "execution_count": 186,
   "metadata": {},
   "outputs": [],
   "source": [
    "np.random.seed(42)\n",
    "x = np.random.randint(10, 15, size=30)\n",
    "y = np.random.randint(11, 15, size=30)\n",
    "z = np.random.randint(10, 20, size=30)\n",
    "w = np.random.randint(13, 18, size=30)"
   ]
  },
  {
   "cell_type": "code",
   "execution_count": 187,
   "metadata": {},
   "outputs": [],
   "source": [
    "data = (x,y,z,w)"
   ]
  },
  {
   "cell_type": "code",
   "execution_count": 188,
   "metadata": {},
   "outputs": [
    {
     "data": {
      "text/plain": [
       "[array([13., 14., 12., 14., 14., 11., 12., 12., 12., 14., 13., 12., 14.,\n",
       "        11., 13., 11., 13., 14., 10., 13., 11., 14., 13., 10., 10., 12.,\n",
       "        12., 11., 13., 13.]),\n",
       " array([14., 13., 12., 12., 13., 12., 13., 14., 13., 14., 14., 11., 13.,\n",
       "        11., 13., 13., 11., 11., 13., 12., 14., 11., 14., 12., 12., 12.,\n",
       "        11., 12., 11., 12.]),\n",
       " array([13., 16., 17., 12., 10., 13., 11., 17., 13., 11., 15., 15., 19.,\n",
       "        13., 15., 11., 19., 11., 19., 13., 17., 16., 18., 17., 14., 11.,\n",
       "        14., 17., 19., 18.]),\n",
       " array([16., 16., 16., 17., 13., 17., 17., 13., 13., 13., 13., 16., 15.,\n",
       "        15., 13., 15., 15., 13., 15., 17., 14., 14., 13., 16., 13., 16.,\n",
       "        14., 13., 17., 15.])]"
      ]
     },
     "execution_count": 188,
     "metadata": {},
     "output_type": "execute_result"
    }
   ],
   "source": [
    "data = [np.array(datum, dtype=float) for datum in data]\n",
    "data"
   ]
  },
  {
   "cell_type": "code",
   "execution_count": 189,
   "metadata": {},
   "outputs": [
    {
     "data": {
      "text/plain": [
       "[30, 30, 30, 30]"
      ]
     },
     "execution_count": 189,
     "metadata": {},
     "output_type": "execute_result"
    }
   ],
   "source": [
    "elemszamok = [data[i].shape[0] for i in range(len(data))]\n",
    "elemszamok"
   ]
  },
  {
   "cell_type": "code",
   "execution_count": 190,
   "metadata": {},
   "outputs": [
    {
     "data": {
      "text/plain": [
       "4"
      ]
     },
     "execution_count": 190,
     "metadata": {},
     "output_type": "execute_result"
    }
   ],
   "source": [
    "csoportszam = len(elemszamok)\n",
    "csoportszam"
   ]
  },
  {
   "cell_type": "code",
   "execution_count": 191,
   "metadata": {},
   "outputs": [
    {
     "data": {
      "text/plain": [
       "array([13., 14., 12., 14., 14., 11., 12., 12., 12., 14., 13., 12., 14.,\n",
       "       11., 13., 11., 13., 14., 10., 13., 11., 14., 13., 10., 10., 12.,\n",
       "       12., 11., 13., 13., 14., 13., 12., 12., 13., 12., 13., 14., 13.,\n",
       "       14., 14., 11., 13., 11., 13., 13., 11., 11., 13., 12., 14., 11.,\n",
       "       14., 12., 12., 12., 11., 12., 11., 12., 13., 16., 17., 12., 10.,\n",
       "       13., 11., 17., 13., 11., 15., 15., 19., 13., 15., 11., 19., 11.,\n",
       "       19., 13., 17., 16., 18., 17., 14., 11., 14., 17., 19., 18., 16.,\n",
       "       16., 16., 17., 13., 17., 17., 13., 13., 13., 13., 16., 15., 15.,\n",
       "       13., 15., 15., 13., 15., 17., 14., 14., 13., 16., 13., 16., 14.,\n",
       "       13., 17., 15.])"
      ]
     },
     "execution_count": 191,
     "metadata": {},
     "output_type": "execute_result"
    }
   ],
   "source": [
    "pool = np.concatenate(data, axis=0)\n",
    "pool"
   ]
  },
  {
   "cell_type": "code",
   "execution_count": 192,
   "metadata": {},
   "outputs": [
    {
     "data": {
      "text/plain": [
       "array([10., 12., 14., 12., 15., 12., 11., 17., 14., 13., 13., 14., 16.,\n",
       "       12., 18., 19., 14., 11., 11., 11., 12., 13., 13., 14., 12., 16.,\n",
       "       13., 13., 17., 14., 14., 14., 12., 13., 10., 13., 17., 12., 17.,\n",
       "       16., 11., 14., 14., 13., 12., 17., 14., 13., 12., 13., 13., 13.,\n",
       "       14., 14., 12., 14., 12., 16., 10., 15., 16., 17., 12., 13., 13.,\n",
       "       13., 11., 17., 15., 17., 15., 19., 13., 13., 15., 13., 17., 11.,\n",
       "       11., 16., 13., 16., 13., 11., 11., 15., 13., 14., 12., 13., 13.,\n",
       "       13., 13., 14., 11., 17., 14., 19., 11., 15., 13., 19., 12., 12.,\n",
       "       15., 11., 18., 14., 13., 12., 11., 11., 13., 13., 10., 13., 16.,\n",
       "       11., 15., 11.])"
      ]
     },
     "execution_count": 192,
     "metadata": {},
     "output_type": "execute_result"
    }
   ],
   "source": [
    "pool = shuffle(pool)\n",
    "pool"
   ]
  },
  {
   "cell_type": "code",
   "execution_count": 195,
   "metadata": {},
   "outputs": [],
   "source": [
    "# list of numpy array"
   ]
  },
  {
   "cell_type": "code",
   "execution_count": 193,
   "metadata": {},
   "outputs": [],
   "source": [
    "args = [resample(pool, size=elemszamok[i]) for i in range(csoportszam)]"
   ]
  },
  {
   "cell_type": "code",
   "execution_count": 196,
   "metadata": {},
   "outputs": [
    {
     "data": {
      "text/plain": [
       "[array([14., 13., 11., 16., 13., 16., 14., 17., 19., 10., 11., 16., 17.,\n",
       "        11., 13., 18., 13., 13., 13., 19., 12., 11., 18., 12., 13., 16.,\n",
       "        11., 13., 12., 13.]),\n",
       " array([13., 19., 11., 10., 12., 12., 11., 16., 11., 13., 13., 14., 12.,\n",
       "        17., 11., 12., 15., 14., 13., 19., 15., 13., 13., 14., 15., 16.,\n",
       "        14., 16., 11., 12.]),\n",
       " array([16., 13., 12., 12., 12., 16., 11., 11., 11., 11., 13., 13., 14.,\n",
       "        14., 13., 19., 17., 12., 11., 13., 14., 13., 11., 12., 14., 17.,\n",
       "        14., 15., 19., 13.]),\n",
       " array([11., 16., 14., 13., 12., 13., 15., 15., 13., 13., 12., 17., 17.,\n",
       "        13., 13., 13., 12., 11., 12., 10., 11., 13., 13., 12., 13., 11.,\n",
       "        14., 19., 16., 16.])]"
      ]
     },
     "execution_count": 196,
     "metadata": {},
     "output_type": "execute_result"
    }
   ],
   "source": [
    "args"
   ]
  },
  {
   "cell_type": "code",
   "execution_count": 140,
   "metadata": {},
   "outputs": [],
   "source": [
    "def resample(x, size, replace=False):\n",
    "    return np.random.choice(x, size=size, replace=replace)"
   ]
  },
  {
   "cell_type": "code",
   "execution_count": 199,
   "metadata": {},
   "outputs": [],
   "source": [
    "x,y = args[:2]"
   ]
  },
  {
   "cell_type": "code",
   "execution_count": 200,
   "metadata": {},
   "outputs": [
    {
     "data": {
      "text/plain": [
       "array([14., 13., 11., 16., 13., 16., 14., 17., 19., 10., 11., 16., 17.,\n",
       "       11., 13., 18., 13., 13., 13., 19., 12., 11., 18., 12., 13., 16.,\n",
       "       11., 13., 12., 13.])"
      ]
     },
     "execution_count": 200,
     "metadata": {},
     "output_type": "execute_result"
    }
   ],
   "source": [
    "x"
   ]
  },
  {
   "cell_type": "code",
   "execution_count": 202,
   "metadata": {},
   "outputs": [
    {
     "data": {
      "text/plain": [
       "4"
      ]
     },
     "execution_count": 202,
     "metadata": {},
     "output_type": "execute_result"
    }
   ],
   "source": [
    "len(data)"
   ]
  },
  {
   "cell_type": "code",
   "execution_count": 203,
   "metadata": {},
   "outputs": [
    {
     "data": {
      "text/plain": [
       "array([14., 13., 11., 16., 13., 16., 14., 17., 19., 10., 11., 16., 17.,\n",
       "       11., 13., 18., 13., 13., 13., 19., 12., 11., 18., 12., 13., 16.,\n",
       "       11., 13., 12., 13.])"
      ]
     },
     "execution_count": 203,
     "metadata": {},
     "output_type": "execute_result"
    }
   ],
   "source": [
    "x"
   ]
  },
  {
   "cell_type": "code",
   "execution_count": 204,
   "metadata": {},
   "outputs": [
    {
     "data": {
      "text/plain": [
       "array([13., 19., 11., 10., 12., 12., 11., 16., 11., 13., 13., 14., 12.,\n",
       "       17., 11., 12., 15., 14., 13., 19., 15., 13., 13., 14., 15., 16.,\n",
       "       14., 16., 11., 12.])"
      ]
     },
     "execution_count": 204,
     "metadata": {},
     "output_type": "execute_result"
    }
   ],
   "source": [
    "y"
   ]
  },
  {
   "cell_type": "code",
   "execution_count": 213,
   "metadata": {},
   "outputs": [
    {
     "data": {
      "text/plain": [
       "array([[1.        , 0.01216728],\n",
       "       [0.01216728, 1.        ]])"
      ]
     },
     "execution_count": 213,
     "metadata": {},
     "output_type": "execute_result"
    }
   ],
   "source": [
    "np.corrcoef(x,y)"
   ]
  },
  {
   "cell_type": "code",
   "execution_count": 214,
   "metadata": {},
   "outputs": [
    {
     "data": {
      "text/plain": [
       "array([5673.])"
      ]
     },
     "execution_count": 214,
     "metadata": {},
     "output_type": "execute_result"
    }
   ],
   "source": [
    "np.correlate(y,x)"
   ]
  },
  {
   "cell_type": "code",
   "execution_count": 215,
   "metadata": {},
   "outputs": [
    {
     "data": {
      "text/plain": [
       "0.012167279271462016"
      ]
     },
     "execution_count": 215,
     "metadata": {},
     "output_type": "execute_result"
    }
   ],
   "source": [
    "pd.Series(x).corr(pd.Series(y))"
   ]
  },
  {
   "cell_type": "code",
   "execution_count": null,
   "metadata": {},
   "outputs": [],
   "source": []
  }
 ],
 "metadata": {
  "kernelspec": {
   "display_name": "Python 3.8.5 64-bit",
   "language": "python",
   "name": "python38564bitd32517fe38854ebd9bef6a7f335b8c68"
  },
  "language_info": {
   "codemirror_mode": {
    "name": "ipython",
    "version": 3
   },
   "file_extension": ".py",
   "mimetype": "text/x-python",
   "name": "python",
   "nbconvert_exporter": "python",
   "pygments_lexer": "ipython3",
   "version": "3.8.5"
  }
 },
 "nbformat": 4,
 "nbformat_minor": 2
}
